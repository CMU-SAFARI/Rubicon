{
 "cells": [
  {
   "cell_type": "markdown",
   "id": "ecc310dc-a4ca-4bee-8c46-6478c7cfd4dc",
   "metadata": {},
   "source": [
    "## Quantization-Aware Basecalling Neural Architecture Search (QABAS)"
   ]
  },
  {
   "cell_type": "markdown",
   "id": "ac566b66-3f70-47a4-84e7-36a246308c30",
   "metadata": {},
   "source": [
    "We use neural architecture search (NAS) to explore different design options for a basecaller. We use a differentiable NAS (DNAS) approach, a weight-sharing approach where we train only one supernetwork and distill a sub-network out of it. We define a search space that consists of all the options for a model. The search space for rubicon is defined in arch/basemodelquant.py."
   ]
  },
  {
   "cell_type": "code",
   "execution_count": 13,
   "id": "015b9390-4cd9-4198-89c7-c41778e381bf",
   "metadata": {},
   "outputs": [],
   "source": [
    "import os\n",
    "import sys\n",
    "from argparse import ArgumentParser \n",
    "from argparse import ArgumentDefaultsHelpFormatter\n",
    "from pathlib import Path\n",
    "from importlib import import_module\n",
    "import torch.nn as nn\n",
    "from os import system\n",
    "from bonito.data import load_numpy\n",
    "from rubicon.data import load_numpy_shuf,load_numpy_full\n",
    "from bonito.data import load_script\n",
    "from rubicon.util import __models__, default_data\n",
    "from bonito.util import load_symbol, init\n",
    "from rubicon.training import load_state, Trainer\n",
    "import json\n",
    "import toml\n",
    "import torch\n",
    "import numpy as np\n",
    "from torch.utils.data import DataLoader\n",
    "from rubicon.tools.nni.nni.retiarii.nn.pytorch.api import LayerChoice, InputChoice\n",
    "from rubicon.nas.dartsbasecalling import DartsBasecalling\n",
    "from rubicon.nas.proxylessbasecalling import ProxylessBasecalling\n",
    "import torch.onnx\n",
    "import time\n",
    "import datetime\n",
    "import logging\n",
    "sys.setrecursionlimit(20000)\n",
    "\n",
    "_logger = logging.getLogger(__name__)\n",
    "def get_parameters(model, keys=None, mode='include'):\n",
    "    if keys is None:\n",
    "        for name, param in model.named_parameters():\n",
    "            yield param\n",
    "    elif mode == 'include':\n",
    "        for name, param in model.named_parameters():\n",
    "            flag = False\n",
    "            for key in keys:\n",
    "                if key in name:\n",
    "                    flag = True\n",
    "                    break\n",
    "            if flag:\n",
    "                yield param\n",
    "    elif mode == 'exclude':\n",
    "        for name, param in model.named_parameters():\n",
    "            flag = True\n",
    "            for key in keys:\n",
    "                if key in name:\n",
    "                    flag = False\n",
    "                    break\n",
    "            if flag:\n",
    "                yield param\n",
    "    else:\n",
    "        raise ValueError('do not support: %s' % mode)"
   ]
  },
  {
   "cell_type": "code",
   "execution_count": 14,
   "id": "ad6e8996-1444-481f-aad6-53190a9ec635",
   "metadata": {},
   "outputs": [
    {
     "name": "stdout",
     "output_type": "stream",
     "text": [
      "/proj/xcohdstaff1/gagandee/env/RUBICON_TEST/bin/python\n"
     ]
    }
   ],
   "source": [
    "# define all the parameters\n",
    "save_directory=\"qabas_results\"\n",
    "workdir = os.path.expanduser(save_directory)\n",
    "seed=25\n",
    "config=\"../rubicon/models/configs/config.toml\"\n",
    "hardware='aie_lut'\n",
    "nas='proxy'\n",
    "reference_latency=65\n",
    "grad_reg_loss_lambda=6e-1\n",
    "directory=\"../rubicon/data/dna_r9.4.1\"\n",
    "lr=2e-3\n",
    "ctlr=2e-3\n",
    "grad_reg_loss_type=\"add#linear\"\n",
    "rubicon=True\n",
    "default=False\n",
    "epochs=5\n",
    "rub_sched=True\n",
    "dart_sched=False\n",
    "rub_arch_opt=True\n",
    "prox_arch_opt=False\n",
    "rub_ctrl_opt=True\n",
    "prox_ctrl_opt=False\n",
    "full=False\n",
    "chunks=128\n",
    "valid_chunks=128\n",
    "batch=64\n",
    "device=\"cuda\"\n",
    "arc_checkpoint=\"final_arch.json\"\n",
    "!which python\n",
    "assert(torch.cuda.is_available())"
   ]
  },
  {
   "cell_type": "code",
   "execution_count": 15,
   "id": "11239600-8dab-45f8-b3d4-824524f5ef14",
   "metadata": {},
   "outputs": [
    {
     "name": "stderr",
     "output_type": "stream",
     "text": [
      "11/07/2023 08:04:12 AM [INFO] Start date and time:2023-11-07 08:04:12.324523\n"
     ]
    },
    {
     "name": "stdout",
     "output_type": "stream",
     "text": [
      "[2023-11-07 08:04:12] INFO (__main__/MainThread) Start date and time:2023-11-07 08:04:12.324523\n",
      "[2023-11-07 08:04:12] INFO (__main__/MainThread) Start date and time:2023-11-07 08:04:12.324523\n"
     ]
    },
    {
     "name": "stderr",
     "output_type": "stream",
     "text": [
      "11/07/2023 08:04:12 AM [INFO] [loading model]\n"
     ]
    },
    {
     "name": "stdout",
     "output_type": "stream",
     "text": [
      "[2023-11-07 08:04:12] INFO (__main__/MainThread) [loading model]\n",
      "[2023-11-07 08:04:12] INFO (__main__/MainThread) [loading model]\n",
      "BaseModelQuant model\n"
     ]
    },
    {
     "name": "stderr",
     "output_type": "stream",
     "text": [
      "11/07/2023 08:04:19 AM [INFO] NAS type:proxy\n"
     ]
    },
    {
     "name": "stdout",
     "output_type": "stream",
     "text": [
      "[2023-11-07 08:04:19] INFO (__main__/MainThread) NAS type:proxy\n",
      "[2023-11-07 08:04:19] INFO (__main__/MainThread) NAS type:proxy\n"
     ]
    },
    {
     "name": "stderr",
     "output_type": "stream",
     "text": [
      "11/07/2023 08:04:19 AM [INFO] Hardware type:aie_lut\n"
     ]
    },
    {
     "name": "stdout",
     "output_type": "stream",
     "text": [
      "[2023-11-07 08:04:19] INFO (__main__/MainThread) Hardware type:aie_lut\n",
      "[2023-11-07 08:04:19] INFO (__main__/MainThread) Hardware type:aie_lut\n"
     ]
    },
    {
     "name": "stderr",
     "output_type": "stream",
     "text": [
      "11/07/2023 08:04:19 AM [INFO] Reference latency:65\n"
     ]
    },
    {
     "name": "stdout",
     "output_type": "stream",
     "text": [
      "[2023-11-07 08:04:19] INFO (__main__/MainThread) Reference latency:65\n",
      "[2023-11-07 08:04:19] INFO (__main__/MainThread) Reference latency:65\n"
     ]
    },
    {
     "name": "stderr",
     "output_type": "stream",
     "text": [
      "11/07/2023 08:04:19 AM [INFO] lambda:0.6\n"
     ]
    },
    {
     "name": "stdout",
     "output_type": "stream",
     "text": [
      "[2023-11-07 08:04:19] INFO (__main__/MainThread) lambda:0.6\n",
      "[2023-11-07 08:04:19] INFO (__main__/MainThread) lambda:0.6\n"
     ]
    },
    {
     "name": "stderr",
     "output_type": "stream",
     "text": [
      "11/07/2023 08:04:19 AM [INFO] [loading data]\n"
     ]
    },
    {
     "name": "stdout",
     "output_type": "stream",
     "text": [
      "[2023-11-07 08:04:19] INFO (__main__/MainThread) [loading data]\n",
      "[2023-11-07 08:04:19] INFO (__main__/MainThread) [loading data]\n"
     ]
    },
    {
     "name": "stderr",
     "output_type": "stream",
     "text": [
      "11/07/2023 08:04:19 AM [INFO] Not full dataset training with shuffling\n"
     ]
    },
    {
     "name": "stdout",
     "output_type": "stream",
     "text": [
      "[2023-11-07 08:04:19] INFO (__main__/MainThread) Not full dataset training with shuffling\n",
      "[2023-11-07 08:04:19] INFO (__main__/MainThread) Not full dataset training with shuffling\n"
     ]
    },
    {
     "name": "stderr",
     "output_type": "stream",
     "text": [
      "11/07/2023 08:04:19 AM [INFO] Dataset length: 128/1221470\n"
     ]
    },
    {
     "name": "stdout",
     "output_type": "stream",
     "text": [
      "[2023-11-07 08:04:19] INFO (rubicon.data/MainThread) Dataset length: 128/1221470\n",
      "[2023-11-07 08:04:19] INFO (rubicon.data/MainThread) Dataset length: 128/1221470\n"
     ]
    },
    {
     "name": "stderr",
     "output_type": "stream",
     "text": [
      "11/07/2023 08:04:27 AM [INFO] Loading training dataset from:../rubicon/data/dna_r9.4.1\n"
     ]
    },
    {
     "name": "stdout",
     "output_type": "stream",
     "text": [
      "[2023-11-07 08:04:27] INFO (rubicon.data/MainThread) Loading training dataset from:../rubicon/data/dna_r9.4.1\n",
      "[2023-11-07 08:04:27] INFO (rubicon.data/MainThread) Loading training dataset from:../rubicon/data/dna_r9.4.1\n"
     ]
    },
    {
     "name": "stderr",
     "output_type": "stream",
     "text": [
      "11/07/2023 08:04:27 AM [INFO] Loading validation dataset from:../rubicon/data/dna_r9.4.1/validation\n"
     ]
    },
    {
     "name": "stdout",
     "output_type": "stream",
     "text": [
      "[2023-11-07 08:04:27] INFO (rubicon.data/MainThread) Loading validation dataset from:../rubicon/data/dna_r9.4.1/validation\n",
      "[2023-11-07 08:04:27] INFO (rubicon.data/MainThread) Loading validation dataset from:../rubicon/data/dna_r9.4.1/validation\n"
     ]
    },
    {
     "name": "stderr",
     "output_type": "stream",
     "text": [
      "11/07/2023 08:04:27 AM [INFO] Dataset length: 128/18477\n"
     ]
    },
    {
     "name": "stdout",
     "output_type": "stream",
     "text": [
      "[2023-11-07 08:04:27] INFO (rubicon.data/MainThread) Dataset length: 128/18477\n",
      "[2023-11-07 08:04:27] INFO (rubicon.data/MainThread) Dataset length: 128/18477\n"
     ]
    },
    {
     "name": "stderr",
     "output_type": "stream",
     "text": [
      "11/07/2023 08:04:27 AM [INFO] Starting ProxylessNAS\n"
     ]
    },
    {
     "name": "stdout",
     "output_type": "stream",
     "text": [
      "[2023-11-07 08:04:27] INFO (__main__/MainThread) Starting ProxylessNAS\n",
      "[2023-11-07 08:04:27] INFO (__main__/MainThread) Starting ProxylessNAS\n"
     ]
    },
    {
     "name": "stderr",
     "output_type": "stream",
     "text": [
      "11/07/2023 08:04:27 AM [INFO] Initializing ProxylessNAS\n"
     ]
    },
    {
     "name": "stdout",
     "output_type": "stream",
     "text": [
      "[2023-11-07 08:04:27] INFO (rubicon.nas.proxylessbasecalling/MainThread) Initializing ProxylessNAS\n",
      "[2023-11-07 08:04:27] INFO (rubicon.nas.proxylessbasecalling/MainThread) Initializing ProxylessNAS\n"
     ]
    },
    {
     "name": "stderr",
     "output_type": "stream",
     "text": [
      "11/07/2023 08:04:27 AM [INFO] Load latency predictor for applied hardware: aie_lut.\n"
     ]
    },
    {
     "name": "stdout",
     "output_type": "stream",
     "text": [
      "[2023-11-07 08:04:27] INFO (rubicon.nas.proxylessbasecalling/MainThread) Load latency predictor for applied hardware: aie_lut.\n",
      "[2023-11-07 08:04:27] INFO (rubicon.nas.proxylessbasecalling/MainThread) Load latency predictor for applied hardware: aie_lut.\n"
     ]
    },
    {
     "name": "stderr",
     "output_type": "stream",
     "text": [
      "11/07/2023 08:04:27 AM [INFO] [Step 1] CTRL Optimizer Learning Rate=0.002\n"
     ]
    },
    {
     "name": "stdout",
     "output_type": "stream",
     "text": [
      "[2023-11-07 08:04:27] INFO (rubicon.nas.proxylessbasecalling/MainThread) [Step 1] CTRL Optimizer Learning Rate=0.002\n",
      "[2023-11-07 08:04:27] INFO (rubicon.nas.proxylessbasecalling/MainThread) [Step 1] CTRL Optimizer Learning Rate=0.002\n"
     ]
    },
    {
     "name": "stderr",
     "output_type": "stream",
     "text": [
      "11/07/2023 08:04:27 AM [INFO] [Step 1] CTRL Optimizer=AdamW (\n",
      "Parameter Group 0\n",
      "    amsgrad: False\n",
      "    betas: (0, 0.999)\n",
      "    capturable: False\n",
      "    differentiable: False\n",
      "    eps: 1e-08\n",
      "    foreach: None\n",
      "    fused: None\n",
      "    lr: 0.002\n",
      "    maximize: False\n",
      "    weight_decay: 0\n",
      ")\n"
     ]
    },
    {
     "name": "stdout",
     "output_type": "stream",
     "text": [
      "[2023-11-07 08:04:27] INFO (rubicon.nas.proxylessbasecalling/MainThread) [Step 1] CTRL Optimizer=AdamW (\n",
      "Parameter Group 0\n",
      "    amsgrad: False\n",
      "    betas: (0, 0.999)\n",
      "    capturable: False\n",
      "    differentiable: False\n",
      "    eps: 1e-08\n",
      "    foreach: None\n",
      "    fused: None\n",
      "    lr: 0.002\n",
      "    maximize: False\n",
      "    weight_decay: 0\n",
      ")\n",
      "[2023-11-07 08:04:27] INFO (rubicon.nas.proxylessbasecalling/MainThread) [Step 1] CTRL Optimizer=AdamW (\n",
      "Parameter Group 0\n",
      "    amsgrad: False\n",
      "    betas: (0, 0.999)\n",
      "    capturable: False\n",
      "    differentiable: False\n",
      "    eps: 1e-08\n",
      "    foreach: None\n",
      "    fused: None\n",
      "    lr: 0.002\n",
      "    maximize: False\n",
      "    weight_decay: 0\n",
      ")\n"
     ]
    },
    {
     "name": "stderr",
     "output_type": "stream",
     "text": [
      "11/07/2023 08:04:28 AM [INFO] [Step 2] ARCH Optimizer Learning Rate=0.002\n"
     ]
    },
    {
     "name": "stdout",
     "output_type": "stream",
     "text": [
      "[2023-11-07 08:04:28] INFO (rubicon.nas.proxylessbasecalling/MainThread) [Step 2] ARCH Optimizer Learning Rate=0.002\n",
      "[2023-11-07 08:04:28] INFO (rubicon.nas.proxylessbasecalling/MainThread) [Step 2] ARCH Optimizer Learning Rate=0.002\n"
     ]
    },
    {
     "name": "stderr",
     "output_type": "stream",
     "text": [
      "11/07/2023 08:04:28 AM [INFO] [Step 2] ARCH Optimizer=AdamW (\n",
      "Parameter Group 0\n",
      "    amsgrad: False\n",
      "    betas: (0.9, 0.999)\n",
      "    capturable: False\n",
      "    differentiable: False\n",
      "    eps: 1e-08\n",
      "    foreach: None\n",
      "    fused: None\n",
      "    lr: 0.002\n",
      "    maximize: False\n",
      "    weight_decay: 0.01\n",
      ")\n"
     ]
    },
    {
     "name": "stdout",
     "output_type": "stream",
     "text": [
      "[2023-11-07 08:04:28] INFO (rubicon.nas.proxylessbasecalling/MainThread) [Step 2] ARCH Optimizer=AdamW (\n",
      "Parameter Group 0\n",
      "    amsgrad: False\n",
      "    betas: (0.9, 0.999)\n",
      "    capturable: False\n",
      "    differentiable: False\n",
      "    eps: 1e-08\n",
      "    foreach: None\n",
      "    fused: None\n",
      "    lr: 0.002\n",
      "    maximize: False\n",
      "    weight_decay: 0.01\n",
      ")\n",
      "[2023-11-07 08:04:28] INFO (rubicon.nas.proxylessbasecalling/MainThread) [Step 2] ARCH Optimizer=AdamW (\n",
      "Parameter Group 0\n",
      "    amsgrad: False\n",
      "    betas: (0.9, 0.999)\n",
      "    capturable: False\n",
      "    differentiable: False\n",
      "    eps: 1e-08\n",
      "    foreach: None\n",
      "    fused: None\n",
      "    lr: 0.002\n",
      "    maximize: False\n",
      "    weight_decay: 0.01\n",
      ")\n"
     ]
    },
    {
     "name": "stderr",
     "output_type": "stream",
     "text": [
      "Epoch 0[128/128]: 100%|##################| [06:17, latency=10120.5443, loss=2.4594, loss_hw=61.1002]11/07/2023 08:10:46 AM [INFO] Epoch 0 latency: 10120.54432908422\n"
     ]
    },
    {
     "name": "stdout",
     "output_type": "stream",
     "text": [
      "[2023-11-07 08:10:46] INFO (rubicon.nas.proxylessbasecalling/MainThread) Epoch 0 latency: 10120.54432908422\n",
      "[2023-11-07 08:10:46] INFO (rubicon.nas.proxylessbasecalling/MainThread) Epoch 0 latency: 10120.54432908422\n"
     ]
    },
    {
     "name": "stderr",
     "output_type": "stream",
     "text": [
      "11/07/2023 08:10:46 AM [INFO] Epoch 0 loss: 2.459383964538574\n"
     ]
    },
    {
     "name": "stdout",
     "output_type": "stream",
     "text": [
      "[2023-11-07 08:10:46] INFO (rubicon.nas.proxylessbasecalling/MainThread) Epoch 0 loss: 2.459383964538574\n",
      "[2023-11-07 08:10:46] INFO (rubicon.nas.proxylessbasecalling/MainThread) Epoch 0 loss: 2.459383964538574\n"
     ]
    },
    {
     "name": "stderr",
     "output_type": "stream",
     "text": [
      "11/07/2023 08:10:46 AM [INFO] Epoch 0 loss HW: 61.10017013549805\n"
     ]
    },
    {
     "name": "stdout",
     "output_type": "stream",
     "text": [
      "[2023-11-07 08:10:46] INFO (rubicon.nas.proxylessbasecalling/MainThread) Epoch 0 loss HW: 61.10017013549805\n",
      "[2023-11-07 08:10:46] INFO (rubicon.nas.proxylessbasecalling/MainThread) Epoch 0 loss HW: 61.10017013549805\n"
     ]
    },
    {
     "name": "stderr",
     "output_type": "stream",
     "text": [
      "Epoch 0[128/128]: 100%|##################| [06:17, latency=10120.5443, loss=2.4594, loss_hw=61.1002]\n",
      "11/07/2023 08:10:46 AM [INFO] Epoch 0 Architecture:{'B_280_0': 30, 'B_280_1': 19, 'B_280_2': 23, 'B_280_3': 8, 'B_296_0': 2, 'B_296_1': 17, 'B_296_2': 30, 'B_296_3': 35, 'B_232_0': 9, 'B_232_1': 22, 'B_232_2': 40, 'B_232_3': 39, 'B_224_0': 13, 'B_224_1': 1, 'B_224_2': 15, 'B_224_3': 5, 'B_144_0': 7, 'B_144_1': 10, 'B_144_2': 37, 'B_144_3': 18}\n"
     ]
    },
    {
     "name": "stdout",
     "output_type": "stream",
     "text": [
      "[2023-11-07 08:10:46] INFO (rubicon.nas.proxylessbasecalling/MainThread) Epoch 0 Architecture:{'B_280_0': 30, 'B_280_1': 19, 'B_280_2': 23, 'B_280_3': 8, 'B_296_0': 2, 'B_296_1': 17, 'B_296_2': 30, 'B_296_3': 35, 'B_232_0': 9, 'B_232_1': 22, 'B_232_2': 40, 'B_232_3': 39, 'B_224_0': 13, 'B_224_1': 1, 'B_224_2': 15, 'B_224_3': 5, 'B_144_0': 7, 'B_144_1': 10, 'B_144_2': 37, 'B_144_3': 18}\n",
      "[2023-11-07 08:10:46] INFO (rubicon.nas.proxylessbasecalling/MainThread) Epoch 0 Architecture:{'B_280_0': 30, 'B_280_1': 19, 'B_280_2': 23, 'B_280_3': 8, 'B_296_0': 2, 'B_296_1': 17, 'B_296_2': 30, 'B_296_3': 35, 'B_232_0': 9, 'B_232_1': 22, 'B_232_2': 40, 'B_232_3': 39, 'B_224_0': 13, 'B_224_1': 1, 'B_224_2': 15, 'B_224_3': 5, 'B_144_0': 7, 'B_144_1': 10, 'B_144_2': 37, 'B_144_3': 18}\n"
     ]
    },
    {
     "name": "stderr",
     "output_type": "stream",
     "text": [
      "11/07/2023 08:10:46 AM [INFO] *************************************************************************\n"
     ]
    },
    {
     "name": "stdout",
     "output_type": "stream",
     "text": [
      "[2023-11-07 08:10:46] INFO (rubicon.nas.proxylessbasecalling/MainThread) *************************************************************************\n",
      "[2023-11-07 08:10:46] INFO (rubicon.nas.proxylessbasecalling/MainThread) *************************************************************************\n"
     ]
    },
    {
     "name": "stderr",
     "output_type": "stream",
     "text": [
      "Epoch 1[128/128]: 100%|###################| [06:25, latency=6754.2306, loss=2.4461, loss_hw=61.1138]11/07/2023 08:17:12 AM [INFO] Epoch 1 latency: 6754.230596467755\n"
     ]
    },
    {
     "name": "stdout",
     "output_type": "stream",
     "text": [
      "[2023-11-07 08:17:12] INFO (rubicon.nas.proxylessbasecalling/MainThread) Epoch 1 latency: 6754.230596467755\n",
      "[2023-11-07 08:17:12] INFO (rubicon.nas.proxylessbasecalling/MainThread) Epoch 1 latency: 6754.230596467755\n"
     ]
    },
    {
     "name": "stderr",
     "output_type": "stream",
     "text": [
      "11/07/2023 08:17:12 AM [INFO] Epoch 1 loss: 2.4461185932159424\n"
     ]
    },
    {
     "name": "stdout",
     "output_type": "stream",
     "text": [
      "[2023-11-07 08:17:12] INFO (rubicon.nas.proxylessbasecalling/MainThread) Epoch 1 loss: 2.4461185932159424\n",
      "[2023-11-07 08:17:12] INFO (rubicon.nas.proxylessbasecalling/MainThread) Epoch 1 loss: 2.4461185932159424\n"
     ]
    },
    {
     "name": "stderr",
     "output_type": "stream",
     "text": [
      "11/07/2023 08:17:12 AM [INFO] Epoch 1 loss HW: 61.11376953125\n"
     ]
    },
    {
     "name": "stdout",
     "output_type": "stream",
     "text": [
      "[2023-11-07 08:17:12] INFO (rubicon.nas.proxylessbasecalling/MainThread) Epoch 1 loss HW: 61.11376953125\n",
      "[2023-11-07 08:17:12] INFO (rubicon.nas.proxylessbasecalling/MainThread) Epoch 1 loss HW: 61.11376953125\n"
     ]
    },
    {
     "name": "stderr",
     "output_type": "stream",
     "text": [
      "Epoch 1[128/128]: 100%|###################| [06:26, latency=6754.2306, loss=2.4461, loss_hw=61.1138]\n",
      "11/07/2023 08:17:12 AM [INFO] Epoch 1 Architecture:{'B_280_0': 30, 'B_280_1': 1, 'B_280_2': 12, 'B_280_3': 14, 'B_296_0': 35, 'B_296_1': 17, 'B_296_2': 5, 'B_296_3': 18, 'B_232_0': 33, 'B_232_1': 22, 'B_232_2': 25, 'B_232_3': 39, 'B_224_0': 2, 'B_224_1': 0, 'B_224_2': 33, 'B_224_3': 27, 'B_144_0': 8, 'B_144_1': 6, 'B_144_2': 33, 'B_144_3': 18}\n"
     ]
    },
    {
     "name": "stdout",
     "output_type": "stream",
     "text": [
      "[2023-11-07 08:17:12] INFO (rubicon.nas.proxylessbasecalling/MainThread) Epoch 1 Architecture:{'B_280_0': 30, 'B_280_1': 1, 'B_280_2': 12, 'B_280_3': 14, 'B_296_0': 35, 'B_296_1': 17, 'B_296_2': 5, 'B_296_3': 18, 'B_232_0': 33, 'B_232_1': 22, 'B_232_2': 25, 'B_232_3': 39, 'B_224_0': 2, 'B_224_1': 0, 'B_224_2': 33, 'B_224_3': 27, 'B_144_0': 8, 'B_144_1': 6, 'B_144_2': 33, 'B_144_3': 18}\n",
      "[2023-11-07 08:17:12] INFO (rubicon.nas.proxylessbasecalling/MainThread) Epoch 1 Architecture:{'B_280_0': 30, 'B_280_1': 1, 'B_280_2': 12, 'B_280_3': 14, 'B_296_0': 35, 'B_296_1': 17, 'B_296_2': 5, 'B_296_3': 18, 'B_232_0': 33, 'B_232_1': 22, 'B_232_2': 25, 'B_232_3': 39, 'B_224_0': 2, 'B_224_1': 0, 'B_224_2': 33, 'B_224_3': 27, 'B_144_0': 8, 'B_144_1': 6, 'B_144_2': 33, 'B_144_3': 18}\n"
     ]
    },
    {
     "name": "stderr",
     "output_type": "stream",
     "text": [
      "11/07/2023 08:17:12 AM [INFO] *************************************************************************\n"
     ]
    },
    {
     "name": "stdout",
     "output_type": "stream",
     "text": [
      "[2023-11-07 08:17:12] INFO (rubicon.nas.proxylessbasecalling/MainThread) *************************************************************************\n",
      "[2023-11-07 08:17:12] INFO (rubicon.nas.proxylessbasecalling/MainThread) *************************************************************************\n"
     ]
    },
    {
     "name": "stderr",
     "output_type": "stream",
     "text": [
      "Epoch 2[64/128]:  50%|##########          | [06:19, latency=9699.4518, loss=2.4649, loss_hw=61.1156]\n",
      "11/07/2023 08:23:32 AM [INFO] Final architecture:{'B_280_0': 2, 'B_280_1': 29, 'B_280_2': 12, 'B_280_3': 35, 'B_296_0': 35, 'B_296_1': 10, 'B_296_2': 38, 'B_296_3': 18, 'B_232_0': 33, 'B_232_1': 22, 'B_232_2': 25, 'B_232_3': 39, 'B_224_0': 2, 'B_224_1': 40, 'B_224_2': 33, 'B_224_3': 35, 'B_144_0': 8, 'B_144_1': 6, 'B_144_2': 33, 'B_144_3': 18}\n"
     ]
    },
    {
     "name": "stdout",
     "output_type": "stream",
     "text": [
      "[2023-11-07 08:23:32] INFO (__main__/MainThread) Final architecture:{'B_280_0': 2, 'B_280_1': 29, 'B_280_2': 12, 'B_280_3': 35, 'B_296_0': 35, 'B_296_1': 10, 'B_296_2': 38, 'B_296_3': 18, 'B_232_0': 33, 'B_232_1': 22, 'B_232_2': 25, 'B_232_3': 39, 'B_224_0': 2, 'B_224_1': 40, 'B_224_2': 33, 'B_224_3': 35, 'B_144_0': 8, 'B_144_1': 6, 'B_144_2': 33, 'B_144_3': 18}\n",
      "[2023-11-07 08:23:32] INFO (__main__/MainThread) Final architecture:{'B_280_0': 2, 'B_280_1': 29, 'B_280_2': 12, 'B_280_3': 35, 'B_296_0': 35, 'B_296_1': 10, 'B_296_2': 38, 'B_296_3': 18, 'B_232_0': 33, 'B_232_1': 22, 'B_232_2': 25, 'B_232_3': 39, 'B_224_0': 2, 'B_224_1': 40, 'B_224_2': 33, 'B_224_3': 35, 'B_144_0': 8, 'B_144_1': 6, 'B_144_2': 33, 'B_144_3': 18}\n"
     ]
    },
    {
     "name": "stderr",
     "output_type": "stream",
     "text": [
      "11/07/2023 08:23:32 AM [INFO] JSON file saved at:final_arch.json\n"
     ]
    },
    {
     "name": "stdout",
     "output_type": "stream",
     "text": [
      "[2023-11-07 08:23:32] INFO (__main__/MainThread) JSON file saved at:final_arch.json\n",
      "[2023-11-07 08:23:32] INFO (__main__/MainThread) JSON file saved at:final_arch.json\n"
     ]
    },
    {
     "name": "stderr",
     "output_type": "stream",
     "text": [
      "11/07/2023 08:23:32 AM [INFO] End date and time:2023-11-07 08:23:32.555473\n"
     ]
    },
    {
     "name": "stdout",
     "output_type": "stream",
     "text": [
      "[2023-11-07 08:23:32] INFO (__main__/MainThread) End date and time:2023-11-07 08:23:32.555473\n",
      "[2023-11-07 08:23:32] INFO (__main__/MainThread) End date and time:2023-11-07 08:23:32.555473\n"
     ]
    }
   ],
   "source": [
    "_logger.info(\"Start date and time:{}\".format(datetime.datetime.now()))\n",
    "if os.path.exists(workdir):\n",
    "    print(\"[error] %s exists. Removing.\" % workdir)\n",
    "    os.rmdir(workdir)\n",
    "    exit(1)\n",
    "\n",
    "os.makedirs(workdir, exist_ok=True)\n",
    "init(seed, device)\n",
    "device = torch.device(device)\n",
    "\n",
    "\n",
    "config_file = config\n",
    "if not os.path.exists(config_file):\n",
    "    print(\"[error] %s does not\" % config_file)\n",
    "    exit(1)\n",
    "config = toml.load(config_file)\n",
    "if not nas:\n",
    "    _logger.warning(\"Please specify which type of NAS using --nas argument\")\n",
    "    exit(1)\n",
    "_logger.info(\"[loading model]\")\n",
    "model = load_symbol(config, 'BaseModelQuant')(config)\n",
    "if grad_reg_loss_type == 'add#linear':\n",
    "        grad_reg_loss_params = {'lambda': grad_reg_loss_lambda}\n",
    "elif grad_reg_loss_type == 'mul#log':\n",
    "        grad_reg_loss_params = {\n",
    "            'alpha': args.grad_reg_loss_alpha,\n",
    "            'beta': args.grad_reg_loss_beta,\n",
    "        }\n",
    "else:\n",
    "        grad_reg_loss_params = None\n",
    "\n",
    "_logger.info(\"NAS type:{}\".format(nas))\n",
    "_logger.info(\"Hardware type:{}\".format(hardware))\n",
    "_logger.info(\"Reference latency:{}\".format(reference_latency))\n",
    "_logger.info(\"lambda:{}\".format(grad_reg_loss_lambda))\n",
    "_logger.info(\"[loading data]\")\n",
    "if full:\n",
    "        _logger.info(\"Full dataset training\")\n",
    "        train_loader_kwargs, valid_loader_kwargs = load_numpy_full(None,\n",
    "                args.directory\n",
    "        )\n",
    "elif chunks:\n",
    "        _logger.info(\"Not full dataset training with shuffling\")\n",
    "        train_loader_kwargs, valid_loader_kwargs = load_numpy_shuf(\n",
    "            chunks, valid_chunks, directory\n",
    "        )\n",
    "else:\n",
    "        _logger.warning(\"Please define the training data correctly\")\n",
    "        exit(1)\n",
    "\n",
    "loader_kwargs = {\n",
    "    \"batch_size\": batch, \"num_workers\": 8, \"pin_memory\": True\n",
    "}\n",
    "train_loader = DataLoader(**loader_kwargs, **train_loader_kwargs)\n",
    "valid_loader = DataLoader(**loader_kwargs, **valid_loader_kwargs)\n",
    "\n",
    "if nas == 'darts':\n",
    "    #### setting optimizer #######  \n",
    "    optimizer = None\n",
    "    _logger.info(\"Starting DARTS NAS\")\n",
    "    #### setting lr scheduler #######\n",
    "\n",
    "    _logger.info(\"Scheduler: Linear Warmup\")\n",
    "    if config.get(\"lr_scheduler\"):\n",
    "        sched_config = config[\"lr_scheduler\"]\n",
    "        lr_scheduler_fn = getattr(\n",
    "            import_module(sched_config[\"package\"]), sched_config[\"symbol\"]\n",
    "        )(**sched_config)\n",
    "        print(\"building scheduler\",getattr(\n",
    "            import_module(sched_config[\"package\"]), sched_config[\"symbol\"]\n",
    "        )(**sched_config))\n",
    "    else:\n",
    "        print(\"no scheduler\")\n",
    "        lr_scheduler_fn = None\n",
    "\n",
    "\n",
    "\n",
    "    trainer = DartsBasecalling(\n",
    "            model=model,\n",
    "            train_loader=train_loader, \n",
    "            valid_loader=valid_loader,\n",
    "            optimizer=optimizer,\n",
    "            lr_scheduler_fn=lr_scheduler_fn,\n",
    "            ctrl_learning_rate=ctlr,\n",
    "            opt_learning_rate=lr,\n",
    "            applied_hardware=hardware,\n",
    "            metrics=lambda output, target: accuracy(output, target, topk=(1, 5,)),\n",
    "            log_frequency=10,\n",
    "            grad_reg_loss_type=grad_reg_loss_type, \n",
    "            grad_reg_loss_params=grad_reg_loss_params, \n",
    "            dummy_input=(344,1,9),\n",
    "            ref_latency=reference_latency,\n",
    "            rubicon=rubicon,\n",
    "            default=default,\n",
    "            num_epochs=epochs\n",
    "        )\n",
    "\n",
    "elif nas == 'proxy':\n",
    "    #### setting optimizer STEP 2 UPDATE WEIGHTS #######\n",
    "    optimizer = None\n",
    "    _logger.info(\"Starting ProxylessNAS\")\n",
    "    lr_scheduler_fn=None  \n",
    "\n",
    "    trainer = ProxylessBasecalling(\n",
    "            model=model,\n",
    "            train_loader=train_loader, \n",
    "            valid_loader=valid_loader,\n",
    "            optimizer=optimizer,\n",
    "            lr_scheduler_fn=lr_scheduler_fn,\n",
    "            ctrl_learning_rate=ctlr,\n",
    "            applied_hardware=hardware,\n",
    "            metrics=lambda output, target: accuracy(output, target, topk=(1, 5,)),\n",
    "            log_frequency=10,\n",
    "            grad_reg_loss_type=grad_reg_loss_type, \n",
    "            grad_reg_loss_params=grad_reg_loss_params, \n",
    "            dummy_input=(344,1,9),\n",
    "            ref_latency=reference_latency,\n",
    "            rubicon=rubicon,\n",
    "            default=default,\n",
    "            num_epochs=epochs,\n",
    "            rub_sched=rub_sched,\n",
    "            dart_sched=dart_sched,\n",
    "            rub_ctrl_opt=rub_ctrl_opt,\n",
    "            prox_ctrl_opt=prox_ctrl_opt               \n",
    "        )\n",
    "\n",
    "trainer.fit(workdir, epochs, lr)\n",
    "final_architecture = trainer.export()\n",
    "_logger.info(\"Final architecture:{}\".format(trainer.export()))\n",
    "\n",
    "# the json file where the output must be stored\n",
    "out_file = open(arc_checkpoint, \"w\")\n",
    "json.dump(final_architecture, out_file, indent = 6)\n",
    "out_file.close()\n",
    "\n",
    "_logger.info(\"JSON file saved at:{}\".format(os.path.expanduser(arc_checkpoint)))\n",
    "_logger.info(\"End date and time:{}\".format(datetime.datetime.now()))"
   ]
  },
  {
   "cell_type": "code",
   "execution_count": null,
   "id": "820e6e04-d0c2-4520-8425-a52e08156705",
   "metadata": {},
   "outputs": [],
   "source": []
  }
 ],
 "metadata": {
  "kernelspec": {
   "display_name": "Python 3 (ipykernel)",
   "language": "python",
   "name": "python3"
  },
  "language_info": {
   "codemirror_mode": {
    "name": "ipython",
    "version": 3
   },
   "file_extension": ".py",
   "mimetype": "text/x-python",
   "name": "python",
   "nbconvert_exporter": "python",
   "pygments_lexer": "ipython3",
   "version": "3.8.10"
  }
 },
 "nbformat": 4,
 "nbformat_minor": 5
}
